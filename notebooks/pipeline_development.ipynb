{
 "cells": [
  {
   "cell_type": "code",
   "execution_count": 1,
   "metadata": {
    "collapsed": true
   },
   "outputs": [],
   "source": [
    "from __future__ import division\n",
    "import pandas as pd \n",
    "import numpy as np\n",
    "from scipy.stats import poisson\n",
    "import matplotlib.pyplot as plt\n",
    "import seaborn as sns\n",
    "\n",
    "%matplotlib inline"
   ]
  },
  {
   "cell_type": "code",
   "execution_count": 2,
   "metadata": {
    "collapsed": false
   },
   "outputs": [
    {
     "name": "stdout",
     "output_type": "stream",
     "text": [
      "<class 'pandas.core.frame.DataFrame'>\n",
      "RangeIndex: 2000 entries, 0 to 1999\n",
      "Data columns (total 42 columns):\n",
      "atts_Man Utd           2000 non-null float64\n",
      "atts_Arsenal           2000 non-null float64\n",
      "atts_Chelsea           2000 non-null float64\n",
      "atts_Everton           2000 non-null float64\n",
      "atts_Newcastle         2000 non-null float64\n",
      "atts_Southampton       2000 non-null float64\n",
      "atts_Stoke             2000 non-null float64\n",
      "atts_Swansea           2000 non-null float64\n",
      "atts_Watford           2000 non-null float64\n",
      "atts_West Brom         2000 non-null float64\n",
      "atts_Liverpool         2000 non-null float64\n",
      "atts_Norwich           2000 non-null float64\n",
      "atts_Sunderland        2000 non-null float64\n",
      "atts_West Ham          2000 non-null float64\n",
      "atts_Man City          2000 non-null float64\n",
      "atts_Spurs             2000 non-null float64\n",
      "atts_Leicester         2000 non-null float64\n",
      "atts_Aston Villa       2000 non-null float64\n",
      "atts_Bournemouth       2000 non-null float64\n",
      "atts_Crystal Palace    2000 non-null float64\n",
      "defs_Man Utd           2000 non-null float64\n",
      "defs_Arsenal           2000 non-null float64\n",
      "defs_Chelsea           2000 non-null float64\n",
      "defs_Everton           2000 non-null float64\n",
      "defs_Newcastle         2000 non-null float64\n",
      "defs_Southampton       2000 non-null float64\n",
      "defs_Stoke             2000 non-null float64\n",
      "defs_Swansea           2000 non-null float64\n",
      "defs_Watford           2000 non-null float64\n",
      "defs_West Brom         2000 non-null float64\n",
      "defs_Liverpool         2000 non-null float64\n",
      "defs_Norwich           2000 non-null float64\n",
      "defs_Sunderland        2000 non-null float64\n",
      "defs_West Ham          2000 non-null float64\n",
      "defs_Man City          2000 non-null float64\n",
      "defs_Spurs             2000 non-null float64\n",
      "defs_Leicester         2000 non-null float64\n",
      "defs_Aston Villa       2000 non-null float64\n",
      "defs_Bournemouth       2000 non-null float64\n",
      "defs_Crystal Palace    2000 non-null float64\n",
      "home                   2000 non-null float64\n",
      "intercept              2000 non-null float64\n",
      "dtypes: float64(42)\n",
      "memory usage: 656.3 KB\n",
      "None\n"
     ]
    },
    {
     "data": {
      "text/html": [
       "<div>\n",
       "<table border=\"1\" class=\"dataframe\">\n",
       "  <thead>\n",
       "    <tr style=\"text-align: right;\">\n",
       "      <th></th>\n",
       "      <th>atts_Man Utd</th>\n",
       "      <th>atts_Arsenal</th>\n",
       "      <th>atts_Chelsea</th>\n",
       "      <th>atts_Everton</th>\n",
       "      <th>atts_Newcastle</th>\n",
       "      <th>atts_Southampton</th>\n",
       "      <th>atts_Stoke</th>\n",
       "      <th>atts_Swansea</th>\n",
       "      <th>atts_Watford</th>\n",
       "      <th>atts_West Brom</th>\n",
       "      <th>...</th>\n",
       "      <th>defs_Sunderland</th>\n",
       "      <th>defs_West Ham</th>\n",
       "      <th>defs_Man City</th>\n",
       "      <th>defs_Spurs</th>\n",
       "      <th>defs_Leicester</th>\n",
       "      <th>defs_Aston Villa</th>\n",
       "      <th>defs_Bournemouth</th>\n",
       "      <th>defs_Crystal Palace</th>\n",
       "      <th>home</th>\n",
       "      <th>intercept</th>\n",
       "    </tr>\n",
       "  </thead>\n",
       "  <tbody>\n",
       "    <tr>\n",
       "      <th>0</th>\n",
       "      <td>-0.158676</td>\n",
       "      <td>0.269434</td>\n",
       "      <td>0.058218</td>\n",
       "      <td>0.173135</td>\n",
       "      <td>-0.137443</td>\n",
       "      <td>0.150761</td>\n",
       "      <td>-0.086937</td>\n",
       "      <td>-0.259878</td>\n",
       "      <td>-0.080363</td>\n",
       "      <td>-0.286274</td>\n",
       "      <td>...</td>\n",
       "      <td>0.024581</td>\n",
       "      <td>0.035655</td>\n",
       "      <td>0.031297</td>\n",
       "      <td>-0.055066</td>\n",
       "      <td>-0.197241</td>\n",
       "      <td>0.143892</td>\n",
       "      <td>0.029758</td>\n",
       "      <td>-0.113533</td>\n",
       "      <td>0.190138</td>\n",
       "      <td>0.103683</td>\n",
       "    </tr>\n",
       "    <tr>\n",
       "      <th>1</th>\n",
       "      <td>-0.158676</td>\n",
       "      <td>0.269434</td>\n",
       "      <td>0.058218</td>\n",
       "      <td>0.173135</td>\n",
       "      <td>-0.137443</td>\n",
       "      <td>0.150761</td>\n",
       "      <td>-0.086937</td>\n",
       "      <td>-0.259878</td>\n",
       "      <td>-0.080363</td>\n",
       "      <td>-0.286274</td>\n",
       "      <td>...</td>\n",
       "      <td>0.024581</td>\n",
       "      <td>0.035655</td>\n",
       "      <td>0.031297</td>\n",
       "      <td>-0.055066</td>\n",
       "      <td>-0.197241</td>\n",
       "      <td>0.143892</td>\n",
       "      <td>0.029758</td>\n",
       "      <td>-0.113533</td>\n",
       "      <td>0.190138</td>\n",
       "      <td>0.103683</td>\n",
       "    </tr>\n",
       "    <tr>\n",
       "      <th>2</th>\n",
       "      <td>-0.158676</td>\n",
       "      <td>0.269434</td>\n",
       "      <td>0.058218</td>\n",
       "      <td>0.173135</td>\n",
       "      <td>-0.137443</td>\n",
       "      <td>0.150761</td>\n",
       "      <td>-0.086937</td>\n",
       "      <td>-0.259878</td>\n",
       "      <td>-0.080363</td>\n",
       "      <td>-0.286274</td>\n",
       "      <td>...</td>\n",
       "      <td>0.024581</td>\n",
       "      <td>0.035655</td>\n",
       "      <td>0.031297</td>\n",
       "      <td>-0.055066</td>\n",
       "      <td>-0.197241</td>\n",
       "      <td>0.143892</td>\n",
       "      <td>0.029758</td>\n",
       "      <td>-0.113533</td>\n",
       "      <td>0.190138</td>\n",
       "      <td>0.103683</td>\n",
       "    </tr>\n",
       "    <tr>\n",
       "      <th>3</th>\n",
       "      <td>-0.071908</td>\n",
       "      <td>0.456854</td>\n",
       "      <td>0.062659</td>\n",
       "      <td>0.212216</td>\n",
       "      <td>-0.055500</td>\n",
       "      <td>0.021623</td>\n",
       "      <td>-0.361882</td>\n",
       "      <td>-0.407281</td>\n",
       "      <td>-0.010712</td>\n",
       "      <td>-0.351957</td>\n",
       "      <td>...</td>\n",
       "      <td>0.218998</td>\n",
       "      <td>0.023151</td>\n",
       "      <td>-0.085500</td>\n",
       "      <td>-0.154935</td>\n",
       "      <td>-0.060878</td>\n",
       "      <td>0.257668</td>\n",
       "      <td>0.251663</td>\n",
       "      <td>0.078292</td>\n",
       "      <td>0.245914</td>\n",
       "      <td>0.156068</td>\n",
       "    </tr>\n",
       "    <tr>\n",
       "      <th>4</th>\n",
       "      <td>-0.012445</td>\n",
       "      <td>0.209838</td>\n",
       "      <td>0.165402</td>\n",
       "      <td>0.010923</td>\n",
       "      <td>-0.156361</td>\n",
       "      <td>0.178642</td>\n",
       "      <td>-0.069133</td>\n",
       "      <td>0.071248</td>\n",
       "      <td>-0.080647</td>\n",
       "      <td>-0.311551</td>\n",
       "      <td>...</td>\n",
       "      <td>0.120647</td>\n",
       "      <td>0.000065</td>\n",
       "      <td>-0.231232</td>\n",
       "      <td>-0.122419</td>\n",
       "      <td>-0.283261</td>\n",
       "      <td>0.240516</td>\n",
       "      <td>0.152149</td>\n",
       "      <td>-0.125116</td>\n",
       "      <td>0.174655</td>\n",
       "      <td>0.130823</td>\n",
       "    </tr>\n",
       "  </tbody>\n",
       "</table>\n",
       "<p>5 rows × 42 columns</p>\n",
       "</div>"
      ],
      "text/plain": [
       "   atts_Man Utd  atts_Arsenal  atts_Chelsea  atts_Everton  atts_Newcastle  \\\n",
       "0     -0.158676      0.269434      0.058218      0.173135       -0.137443   \n",
       "1     -0.158676      0.269434      0.058218      0.173135       -0.137443   \n",
       "2     -0.158676      0.269434      0.058218      0.173135       -0.137443   \n",
       "3     -0.071908      0.456854      0.062659      0.212216       -0.055500   \n",
       "4     -0.012445      0.209838      0.165402      0.010923       -0.156361   \n",
       "\n",
       "   atts_Southampton  atts_Stoke  atts_Swansea  atts_Watford  atts_West Brom  \\\n",
       "0          0.150761   -0.086937     -0.259878     -0.080363       -0.286274   \n",
       "1          0.150761   -0.086937     -0.259878     -0.080363       -0.286274   \n",
       "2          0.150761   -0.086937     -0.259878     -0.080363       -0.286274   \n",
       "3          0.021623   -0.361882     -0.407281     -0.010712       -0.351957   \n",
       "4          0.178642   -0.069133      0.071248     -0.080647       -0.311551   \n",
       "\n",
       "     ...      defs_Sunderland  defs_West Ham  defs_Man City  defs_Spurs  \\\n",
       "0    ...             0.024581       0.035655       0.031297   -0.055066   \n",
       "1    ...             0.024581       0.035655       0.031297   -0.055066   \n",
       "2    ...             0.024581       0.035655       0.031297   -0.055066   \n",
       "3    ...             0.218998       0.023151      -0.085500   -0.154935   \n",
       "4    ...             0.120647       0.000065      -0.231232   -0.122419   \n",
       "\n",
       "   defs_Leicester  defs_Aston Villa  defs_Bournemouth  defs_Crystal Palace  \\\n",
       "0       -0.197241          0.143892          0.029758            -0.113533   \n",
       "1       -0.197241          0.143892          0.029758            -0.113533   \n",
       "2       -0.197241          0.143892          0.029758            -0.113533   \n",
       "3       -0.060878          0.257668          0.251663             0.078292   \n",
       "4       -0.283261          0.240516          0.152149            -0.125116   \n",
       "\n",
       "       home  intercept  \n",
       "0  0.190138   0.103683  \n",
       "1  0.190138   0.103683  \n",
       "2  0.190138   0.103683  \n",
       "3  0.245914   0.156068  \n",
       "4  0.174655   0.130823  \n",
       "\n",
       "[5 rows x 42 columns]"
      ]
     },
     "execution_count": 2,
     "metadata": {},
     "output_type": "execute_result"
    }
   ],
   "source": [
    "param_df = pd.read_csv('../data/params_df.csv')\n",
    "\n",
    "print param_df.info()\n",
    "\n",
    "param_df.head()"
   ]
  },
  {
   "cell_type": "markdown",
   "metadata": {},
   "source": [
    "## Useful Functions"
   ]
  },
  {
   "cell_type": "code",
   "execution_count": 3,
   "metadata": {
    "collapsed": true
   },
   "outputs": [],
   "source": [
    "def tau(xx, yy, lambda_param, mu, rho):\n",
    "    if xx == 0 & yy == 0:\n",
    "        return 1 - (lambda_param*mu*rho)\n",
    "    elif xx == 0 & yy== 1:\n",
    "        return 1 + (lambda_param * rho)\n",
    "    elif xx == 1 & yy == 0:\n",
    "        return 1 + (1 + (mu * rho))\n",
    "    elif xx == 1 & yy == 1:\n",
    "        return 1 - rho\n",
    "    else:\n",
    "        return 1\n",
    "    \n",
    "def calculate_mu(home_team_name, away_team_name, param_df, row_num):\n",
    "    '''\n",
    "    This function calculates the mu value for the given combination of home team and away team, \n",
    "    given the param_df\n",
    "    '''\n",
    "    home_atts = param_df['atts_{0}'.format(home_team_name)].iloc[row_num]\n",
    "    home_defs = param_df['defs_{0}'.format(home_team_name)].iloc[row_num]\n",
    "    away_atts = param_df['atts_{0}'.format(away_team_name)].iloc[row_num]\n",
    "    away_defs = param_df['defs_{0}'.format(away_team_name)].iloc[row_num]\n",
    "    intercept = param_df['intercept'].iloc[row_num]\n",
    "    home = param_df['home'].iloc[row_num]\n",
    "    mu = np.exp(home_atts + away_defs + home + intercept)\n",
    "    return mu\n",
    "\n",
    "def calculate_lambda_val(home_team_name, away_team_name, param_df, row_num):\n",
    "    '''\n",
    "    This function calculates the lambda value for the given combination of home team and away team, \n",
    "    given the param_df\n",
    "    '''\n",
    "    home_atts = param_df['atts_{0}'.format(home_team_name)].iloc[row_num]\n",
    "    home_defs = param_df['defs_{0}'.format(home_team_name)].iloc[row_num]\n",
    "    away_atts = param_df['atts_{0}'.format(away_team_name)].iloc[row_num]\n",
    "    away_defs = param_df['defs_{0}'.format(away_team_name)].iloc[row_num]\n",
    "    intercept = param_df['intercept'].iloc[row_num]\n",
    "    lambda_val = np.exp(away_atts + home_defs + intercept)\n",
    "    return lambda_val"
   ]
  },
  {
   "cell_type": "code",
   "execution_count": 4,
   "metadata": {
    "collapsed": false
   },
   "outputs": [
    {
     "data": {
      "text/plain": [
       "0.66877571772599675"
      ]
     },
     "execution_count": 4,
     "metadata": {},
     "output_type": "execute_result"
    }
   ],
   "source": [
    "tau(0, 0, \n",
    "    lambda_param=calculate_lambda_val('Arsenal', 'Man Utd', param_df, row_num=5),\n",
    "    mu=calculate_mu('Arsenal', 'Man Utd', param_df, row_num=5), \n",
    "    rho=param_df['intercept'].iloc[5])"
   ]
  },
  {
   "cell_type": "code",
   "execution_count": 5,
   "metadata": {
    "collapsed": false
   },
   "outputs": [],
   "source": [
    "def calculate_mu(home_team_name, away_team_name, param_df, row_num):\n",
    "    '''\n",
    "    This function calculates the mu value for the given combination of home team and away team,\n",
    "    given the param_df\n",
    "    '''\n",
    "    home_atts = param_df['atts_{0}'.format(home_team_name)].iloc[row_num]\n",
    "    home_defs = param_df['defs_{0}'.format(home_team_name)].iloc[row_num]\n",
    "    away_atts = param_df['atts_{0}'.format(away_team_name)].iloc[row_num]\n",
    "    away_defs = param_df['defs_{0}'.format(away_team_name)].iloc[row_num]\n",
    "    intercept = param_df['intercept'].iloc[row_num]\n",
    "    home = param_df['home'].iloc[row_num]\n",
    "    mu = np.exp(home_atts + away_defs + home + intercept)\n",
    "    return mu\n",
    "\n",
    "def calculate_lambda_val(home_team_name, away_team_name, param_df, row_num):\n",
    "    '''\n",
    "    This function calculates the lambda value for the given combination of home team and away team,\n",
    "    given the param_df\n",
    "    '''\n",
    "    home_atts = param_df['atts_{0}'.format(home_team_name)].iloc[row_num]\n",
    "    home_defs = param_df['defs_{0}'.format(home_team_name)].iloc[row_num]\n",
    "    away_atts = param_df['atts_{0}'.format(away_team_name)].iloc[row_num]\n",
    "    away_defs = param_df['defs_{0}'.format(away_team_name)].iloc[row_num]\n",
    "    intercept = param_df['intercept'].iloc[row_num]\n",
    "    lambda_val = np.exp(away_atts + home_defs + intercept)\n",
    "    return lambda_val\n",
    "\n",
    "def create_scaling_matrix(mu, lambda_val, rho):\n",
    "    '''\n",
    "    '''\n",
    "    results = []\n",
    "    for xx, yy in zip([0, 1, 0, 1], [0, 0, 1, 1]):\n",
    "        results.append(tau(xx, yy, lambda_param=lambda_val, mu=mu, rho=rho))\n",
    "\n",
    "    result_array = np.array(results)\n",
    "    result_matrix = result_array.reshape(2, 2)\n",
    "    result_matrix = result_matrix.transpose()\n",
    "    return result_matrix\n",
    "\n",
    "\n",
    "def create_likelihood_matrix(mu, lambda_val, max_goals=6):\n",
    "    home_dist = poisson(mu).pmf([x for x in xrange(max_goals)])\n",
    "    away_dist = poisson(lambda_val).pmf([x for x in xrange(max_goals)])\n",
    "    #\n",
    "    x_shape = home_dist.shape[0]\n",
    "    home_dist.shape = (x_shape, 1)\n",
    "    y_shape = away_dist.shape[0]\n",
    "    away_dist.shape = (y_shape, 1)\n",
    "    result_matrix = np.matmul(home_dist, away_dist.transpose())\n",
    "\n",
    "    return result_matrix"
   ]
  },
  {
   "cell_type": "code",
   "execution_count": 6,
   "metadata": {
    "collapsed": true
   },
   "outputs": [],
   "source": [
    "import pandas as pd\n",
    "import numpy as np\n",
    "from scipy.stats import poisson\n",
    "\n",
    "def tau(xx, yy, lambda_param, mu, rho):\n",
    "    if xx == 0 & yy == 0:\n",
    "        return 1 - (lambda_param*mu*rho)\n",
    "    elif xx == 0 & yy== 1:\n",
    "        return 1 + (lambda_param * rho)\n",
    "    elif xx == 1 & yy == 0:\n",
    "        return 1 + (1 + (mu * rho))\n",
    "    elif xx == 1 & yy == 1:\n",
    "        return 1 - rho\n",
    "    else:\n",
    "        return 1\n",
    "\n",
    "def calculate_mu(home_team_name, away_team_name, param_df, row_num):\n",
    "    '''\n",
    "    This function calculates the mu value for the given combination of home team and away team,\n",
    "    given the param_df\n",
    "    '''\n",
    "    home_atts = param_df['atts_{0}'.format(home_team_name)].iloc[row_num]\n",
    "    home_defs = param_df['defs_{0}'.format(home_team_name)].iloc[row_num]\n",
    "    away_atts = param_df['atts_{0}'.format(away_team_name)].iloc[row_num]\n",
    "    away_defs = param_df['defs_{0}'.format(away_team_name)].iloc[row_num]\n",
    "    intercept = param_df['intercept'].iloc[row_num]\n",
    "    home = param_df['home'].iloc[row_num]\n",
    "    mu = np.exp(home_atts + away_defs + home + intercept)\n",
    "    return mu\n",
    "\n",
    "def calculate_lambda_val(home_team_name, away_team_name, param_df, row_num):\n",
    "    '''\n",
    "    This function calculates the lambda value for the given combination of home team and away team,\n",
    "    given the param_df\n",
    "    '''\n",
    "    home_atts = param_df['atts_{0}'.format(home_team_name)].iloc[row_num]\n",
    "    home_defs = param_df['defs_{0}'.format(home_team_name)].iloc[row_num]\n",
    "    away_atts = param_df['atts_{0}'.format(away_team_name)].iloc[row_num]\n",
    "    away_defs = param_df['defs_{0}'.format(away_team_name)].iloc[row_num]\n",
    "    intercept = param_df['intercept'].iloc[row_num]\n",
    "    lambda_val = np.exp(away_atts + home_defs + intercept)\n",
    "    return lambda_val\n",
    "\n",
    "def create_scaling_matrix(mu, lambda_val, rho):\n",
    "    '''\n",
    "    '''\n",
    "    results = []\n",
    "    for xx, yy in zip([0, 1, 0, 1], [0, 0, 1, 1]):\n",
    "        results.append(tau(xx, yy, lambda_param=lambda_val, mu=mu))\n",
    "\n",
    "    result_array = np.array(results)\n",
    "    result_matrix = result_array.reshape(2, 2)\n",
    "    result_matrix = result_matrix.transpose()\n",
    "    return result_matrix\n",
    "\n",
    "\n",
    "def create_likelihood_matrix(mu, lambda_val, max_goals=6):\n",
    "    '''\n",
    "    '''\n",
    "    home_dist = poisson(mu).pmf([x for x in xrange(max_goals)])\n",
    "    away_dist = poisson(lambda_val).pmf([x for x in xrange(max_goals)])\n",
    "    #\n",
    "    # need to clearl define the shapes for home_dist and away_dist\n",
    "    result_matrix = np.matmul(home_dist, away_dist.transpose())\n",
    "\n",
    "    return result_matrix\n",
    "\n",
    "def get_fixture_result(result_matrix, scaling_matrix):\n",
    "    '''\n",
    "    This function takes the result matric and the scaling matrix for a given\n",
    "    fixture and returns a dictionary with the home / draw / away probabilities.\n",
    "    '''\n",
    "    result_matrix[0:2, 0:2] = np.dot(result_matrix[0:2, 0:2], scaling_matrix.transpose())\n",
    "    home_abs = np.sum(np.tril(result_matrix))\n",
    "    draw_abs = np.sum(np.diag(result_matrix))\n",
    "    away_abs = np.sum(np.triu(result_matrix))\n",
    "\n",
    "    # transform to probabilities\n",
    "    total_absolute = home_abs + draw_abs + away_abs\n",
    "    home_prob = ((home_abs / total_absolute) * 100)\n",
    "    draw_prob = ((draw_abs / total_absolute) * 100)\n",
    "    away_prob = ((away_abs / total_absolute) * 100)\n",
    "\n",
    "    result_dict = {\n",
    "        'home_prob': home_prob,\n",
    "        'draw_prob': draw_prob,\n",
    "        'away_prob': away_prob}\n",
    "\n",
    "    return result_dict\n",
    "\n",
    "def calculate_fixture_result(fixture_row, param_df, home_team_name,\n",
    "    away_team_name):\n",
    "    '''\n",
    "    Using the param_df, calculate the home_prob, draw_prob, and away_prob.\n",
    "    '''\n",
    "    mu = calculate_mu(home_team_name, away_team_name, param_df, row_num)\n",
    "    lambda_val = calculate_lambda_val(home_team_name, away_team_name,\n",
    "        param_df, row_num)\n",
    "    result_matrix = create_likelihood_matrix(mu, lambda_val)\n",
    "    scaling_matrix = create_scaling_matrix(mu, lambda_val, rho)\n",
    "    result_dict = get_fixture_result(result_matrix, scaling_matrix)\n",
    "    result_dict['home_team_name'] = home_team_name\n",
    "    result_dict['away_team_name'] = away_team_name\n",
    "\n",
    "    return result_dict\n",
    "\n",
    "def make_predictions_from_fixture_list(fixture_df, param_df, row_num):\n",
    "    '''\n",
    "    From a list of fixtures, and a dataframe of prediction parameters, and the\n",
    "    row_num to sample from, return a dataframe with a row for each fixture.\n",
    "    This must contain home team,away team, home win probability, draw\n",
    "    probability, and away probability.\n",
    "    '''\n",
    "    home_team_list = []\n",
    "    away_team_list = []\n",
    "    home_prob_list = []\n",
    "    draw_prob_list = []\n",
    "    away_prob_list = []\n",
    "    for row in fixture_df.iterrows():\n",
    "        fixture_row = row[1]\n",
    "        fixture_result_dict = calculate_fixture_result(fixture_row)\n",
    "        home_team_list.append(fixture_result_dict['home_team_name'])\n",
    "        away_team_list.append(fixture_result_dict['away_team_name'])\n",
    "        home_prob_list.append(fixture_result_dict['home_prob'])\n",
    "        draw_prob_list.append(fixture_result_dict['draw_prob'])\n",
    "        away_prob_list.append(fixture_result_dict['away_prob'])\n",
    "\n",
    "    data = {'home_team': home_team_list,\n",
    "            'away_team': away_team_list,\n",
    "            'home_prob': home_prob_list,\n",
    "            'draw_prob': draw_prob_list,\n",
    "            'away_prob': away_prob_list\n",
    "            }\n",
    "    predictions_df = pd.DataFrame(data)\n",
    "    return predictions_df\n"
   ]
  },
  {
   "cell_type": "code",
   "execution_count": 9,
   "metadata": {
    "collapsed": false
   },
   "outputs": [],
   "source": [
    "import pandas as pd\n",
    "import numpy as np\n",
    "from scipy.stats import poisson\n",
    "\n",
    "def tau(xx, yy, lambda_param, mu, rho):\n",
    "    if xx == 0 & yy == 0:\n",
    "        return 1 - (lambda_param*mu*rho)\n",
    "    elif xx == 0 & yy== 1:\n",
    "        return 1 + (lambda_param * rho)\n",
    "    elif xx == 1 & yy == 0:\n",
    "        return 1 + (1 + (mu * rho))\n",
    "    elif xx == 1 & yy == 1:\n",
    "        return 1 - rho\n",
    "    else:\n",
    "        return 1\n",
    "\n",
    "def calculate_mu(home_team_name, away_team_name, param_df, row_num):\n",
    "    '''\n",
    "    This function calculates the mu value for the given combination of home team and away team,\n",
    "    given the param_df\n",
    "    '''\n",
    "    home_atts = param_df['atts_{0}'.format(home_team_name)].iloc[row_num]\n",
    "    home_defs = param_df['defs_{0}'.format(home_team_name)].iloc[row_num]\n",
    "    away_atts = param_df['atts_{0}'.format(away_team_name)].iloc[row_num]\n",
    "    away_defs = param_df['defs_{0}'.format(away_team_name)].iloc[row_num]\n",
    "    intercept = param_df['intercept'].iloc[row_num]\n",
    "    home = param_df['home'].iloc[row_num]\n",
    "    mu = np.exp(home_atts + away_defs + home + intercept)\n",
    "    return mu\n",
    "\n",
    "def calculate_lambda_val(home_team_name, away_team_name, param_df, row_num):\n",
    "    '''\n",
    "    This function calculates the lambda value for the given combination of home team and away team,\n",
    "    given the param_df\n",
    "    '''\n",
    "    home_atts = param_df['atts_{0}'.format(home_team_name)].iloc[row_num]\n",
    "    home_defs = param_df['defs_{0}'.format(home_team_name)].iloc[row_num]\n",
    "    away_atts = param_df['atts_{0}'.format(away_team_name)].iloc[row_num]\n",
    "    away_defs = param_df['defs_{0}'.format(away_team_name)].iloc[row_num]\n",
    "    intercept = param_df['intercept'].iloc[row_num]\n",
    "    lambda_val = np.exp(away_atts + home_defs + intercept)\n",
    "    return lambda_val\n",
    "\n",
    "def create_scaling_matrix(mu, lambda_val, rho):\n",
    "    '''\n",
    "    '''\n",
    "    results = []\n",
    "    for xx, yy in zip([0, 1, 0, 1], [0, 0, 1, 1]):\n",
    "        results.append(tau(xx, yy, lambda_param=lambda_val, mu=mu, rho=rho))\n",
    "\n",
    "    result_array = np.array(results)\n",
    "    result_matrix = result_array.reshape(2, 2)\n",
    "    result_matrix = result_matrix.transpose()\n",
    "    return result_matrix\n",
    "\n",
    "\n",
    "def create_likelihood_matrix(mu, lambda_val, max_goals=6):\n",
    "    '''\n",
    "    '''\n",
    "    home_dist = poisson(mu).pmf([x for x in xrange(max_goals)])\n",
    "    away_dist = poisson(lambda_val).pmf([x for x in xrange(max_goals)])\n",
    "    #\n",
    "    # need to clearl define the shapes for home_dist and away_dist\n",
    "    home_dist.shape = (6, 1)\n",
    "    away_dist.shape = (6, 1)\n",
    "\n",
    "    result_matrix = np.matmul(home_dist, away_dist.transpose())\n",
    "\n",
    "    return result_matrix\n",
    "\n",
    "def get_fixture_result(result_matrix, scaling_matrix):\n",
    "    '''\n",
    "    This function takes the result matric and the scaling matrix for a given\n",
    "    fixture and returns a dictionary with the home / draw / away probabilities.\n",
    "    '''\n",
    "    result_matrix[0:2, 0:2] = np.dot(result_matrix[0:2, 0:2], scaling_matrix.transpose())\n",
    "    home_abs = np.sum(np.tril(result_matrix))\n",
    "    draw_abs = np.sum(np.diag(result_matrix))\n",
    "    away_abs = np.sum(np.triu(result_matrix))\n",
    "\n",
    "    # transform to probabilities\n",
    "    total_absolute = home_abs + draw_abs + away_abs\n",
    "    home_prob = ((home_abs / total_absolute) * 100)\n",
    "    draw_prob = ((draw_abs / total_absolute) * 100)\n",
    "    away_prob = ((away_abs / total_absolute) * 100)\n",
    "\n",
    "    result_dict = {\n",
    "        'home_prob': home_prob,\n",
    "        'draw_prob': draw_prob,\n",
    "        'away_prob': away_prob}\n",
    "\n",
    "    return result_dict\n",
    "\n",
    "def calculate_fixture_result(fixture_row, param_df, home_team_name,\n",
    "    away_team_name):\n",
    "    '''\n",
    "    Using the param_df, calculate the home_prob, draw_prob, and away_prob.\n",
    "    '''\n",
    "    mu = calculate_mu(home_team_name, away_team_name, param_df, row_num)\n",
    "    lambda_val = calculate_lambda_val(home_team_name, away_team_name,\n",
    "        param_df, row_num)\n",
    "    result_matrix = create_likelihood_matrix(mu, lambda_val)\n",
    "\n",
    "    scaling_matrix = create_scaling_matrix(mu, lambda_val, rho)\n",
    "    result_dict = get_fixture_result(result_matrix, scaling_matrix)\n",
    "    result_dict['home_team_name'] = home_team_name\n",
    "    result_dict['away_team_name'] = away_team_name\n",
    "\n",
    "    return result_dict\n",
    "\n",
    "def make_predictions_from_fixture_list(fixture_df, param_df, row_num):\n",
    "    '''\n",
    "    From a list of fixtures, and a dataframe of prediction parameters, and the\n",
    "    row_num to sample from, return a dataframe with a row for each fixture.\n",
    "    This must contain home team,away team, home win probability, draw\n",
    "    probability, and away probability.\n",
    "    '''\n",
    "    home_team_list = []\n",
    "    away_team_list = []\n",
    "    home_prob_list = []\n",
    "    draw_prob_list = []\n",
    "    away_prob_list = []\n",
    "    for row in fixture_df.iterrows():\n",
    "        fixture_row = row[1]\n",
    "        home_team_name = fixture_row['home_team']\n",
    "        away_team_name = fixture_row['away_team']\n",
    "        fixture_result_dict = calculate_fixture_result(fixture_row, param_df,\n",
    "            home_team_name, away_team_name)\n",
    "        home_team_list.append(fixture_result_dict['home_team_name'])\n",
    "        away_team_list.append(fixture_result_dict['away_team_name'])\n",
    "        home_prob_list.append(fixture_result_dict['home_prob'])\n",
    "        draw_prob_list.append(fixture_result_dict['draw_prob'])\n",
    "        away_prob_list.append(fixture_result_dict['away_prob'])\n",
    "\n",
    "    data = {'home_team': home_team_list,\n",
    "            'away_team': away_team_list,\n",
    "            'home_prob': home_prob_list,\n",
    "            'draw_prob': draw_prob_list,\n",
    "            'away_prob': away_prob_list\n",
    "            }\n",
    "    predictions_df = pd.DataFrame(data)\n",
    "    return predictions_df\n",
    "\n",
    "def get_actual_result(row, results_df=results_df):\n",
    "    '''\n",
    "    Takes a row containing 'home_team' and 'away_team', and looks up the fixture\n",
    "    in the results_df to find out who won.\n",
    "    '''\n",
    "    \n",
    "    home_team = row['home_team']\n",
    "    away_team = row['away_team']\n",
    "    result = results_df[(results_df['home_team'] == home_team) &\n",
    "        (results_df['away_team'] == away_team)]\n",
    "    assert len(result) == 1\n",
    "    result = result.iloc[0]\n",
    "    if result['home_score'] > result['away_score']:\n",
    "        return 'H'\n",
    "\n",
    "    if result['home_score'] == result['away_score']:\n",
    "        return 'D'\n",
    "\n",
    "    if result['home_score'] < result['away_score']:\n",
    "        return 'L'\n"
   ]
  },
  {
   "cell_type": "code",
   "execution_count": 18,
   "metadata": {
    "collapsed": false
   },
   "outputs": [
    {
     "data": {
      "text/plain": [
       "'H'"
      ]
     },
     "execution_count": 18,
     "metadata": {},
     "output_type": "execute_result"
    }
   ],
   "source": [
    "get_actual_result(a.iloc[1], results_df)"
   ]
  },
  {
   "cell_type": "code",
   "execution_count": 116,
   "metadata": {
    "collapsed": false,
    "scrolled": true
   },
   "outputs": [],
   "source": [
    "a = make_predictions_from_fixture_list(results_df, param_df, 1500)"
   ]
  },
  {
   "cell_type": "code",
   "execution_count": 66,
   "metadata": {
    "collapsed": false
   },
   "outputs": [],
   "source": [
    "a['actual_result'] = a.apply(get_actual_result, axis=1)"
   ]
  },
  {
   "cell_type": "code",
   "execution_count": 67,
   "metadata": {
    "collapsed": false
   },
   "outputs": [
    {
     "data": {
      "text/html": [
       "<div>\n",
       "<table border=\"1\" class=\"dataframe\">\n",
       "  <thead>\n",
       "    <tr style=\"text-align: right;\">\n",
       "      <th></th>\n",
       "      <th>away_prob</th>\n",
       "      <th>away_team</th>\n",
       "      <th>draw_prob</th>\n",
       "      <th>home_prob</th>\n",
       "      <th>home_team</th>\n",
       "      <th>actual_result</th>\n",
       "    </tr>\n",
       "  </thead>\n",
       "  <tbody>\n",
       "    <tr>\n",
       "      <th>0</th>\n",
       "      <td>29.672241</td>\n",
       "      <td>Bournemouth</td>\n",
       "      <td>18.369985</td>\n",
       "      <td>51.957773</td>\n",
       "      <td>Man Utd</td>\n",
       "      <td>H</td>\n",
       "    </tr>\n",
       "    <tr>\n",
       "      <th>1</th>\n",
       "      <td>19.957426</td>\n",
       "      <td>Aston Villa</td>\n",
       "      <td>14.457742</td>\n",
       "      <td>65.584832</td>\n",
       "      <td>Arsenal</td>\n",
       "      <td>H</td>\n",
       "    </tr>\n",
       "    <tr>\n",
       "      <th>2</th>\n",
       "      <td>41.862144</td>\n",
       "      <td>Leicester</td>\n",
       "      <td>19.862024</td>\n",
       "      <td>38.275832</td>\n",
       "      <td>Chelsea</td>\n",
       "      <td>D</td>\n",
       "    </tr>\n",
       "    <tr>\n",
       "      <th>3</th>\n",
       "      <td>34.801710</td>\n",
       "      <td>Norwich</td>\n",
       "      <td>17.454348</td>\n",
       "      <td>47.743942</td>\n",
       "      <td>Everton</td>\n",
       "      <td>H</td>\n",
       "    </tr>\n",
       "    <tr>\n",
       "      <th>4</th>\n",
       "      <td>46.912272</td>\n",
       "      <td>Spurs</td>\n",
       "      <td>18.574965</td>\n",
       "      <td>34.512763</td>\n",
       "      <td>Newcastle</td>\n",
       "      <td>H</td>\n",
       "    </tr>\n",
       "  </tbody>\n",
       "</table>\n",
       "</div>"
      ],
      "text/plain": [
       "   away_prob    away_team  draw_prob  home_prob  home_team actual_result\n",
       "0  29.672241  Bournemouth  18.369985  51.957773    Man Utd             H\n",
       "1  19.957426  Aston Villa  14.457742  65.584832    Arsenal             H\n",
       "2  41.862144    Leicester  19.862024  38.275832    Chelsea             D\n",
       "3  34.801710      Norwich  17.454348  47.743942    Everton             H\n",
       "4  46.912272        Spurs  18.574965  34.512763  Newcastle             H"
      ]
     },
     "execution_count": 67,
     "metadata": {},
     "output_type": "execute_result"
    }
   ],
   "source": [
    "a.head()"
   ]
  },
  {
   "cell_type": "code",
   "execution_count": 68,
   "metadata": {
    "collapsed": false
   },
   "outputs": [],
   "source": [
    "assesment_df = pd.melt(a, id_vars=['home_team', 'away_team', 'actual_result'])\n",
    "assesment_df['actual_result'] = assesment_df['actual_result'].astype('category')"
   ]
  },
  {
   "cell_type": "code",
   "execution_count": 69,
   "metadata": {
    "collapsed": false,
    "scrolled": true
   },
   "outputs": [
    {
     "data": {
      "text/html": [
       "<div>\n",
       "<table border=\"1\" class=\"dataframe\">\n",
       "  <thead>\n",
       "    <tr style=\"text-align: right;\">\n",
       "      <th></th>\n",
       "      <th>home_team</th>\n",
       "      <th>away_team</th>\n",
       "      <th>actual_result</th>\n",
       "      <th>variable</th>\n",
       "      <th>value</th>\n",
       "    </tr>\n",
       "  </thead>\n",
       "  <tbody>\n",
       "    <tr>\n",
       "      <th>0</th>\n",
       "      <td>Man Utd</td>\n",
       "      <td>Bournemouth</td>\n",
       "      <td>H</td>\n",
       "      <td>away_prob</td>\n",
       "      <td>29.672241</td>\n",
       "    </tr>\n",
       "    <tr>\n",
       "      <th>1</th>\n",
       "      <td>Arsenal</td>\n",
       "      <td>Aston Villa</td>\n",
       "      <td>H</td>\n",
       "      <td>away_prob</td>\n",
       "      <td>19.957426</td>\n",
       "    </tr>\n",
       "    <tr>\n",
       "      <th>2</th>\n",
       "      <td>Chelsea</td>\n",
       "      <td>Leicester</td>\n",
       "      <td>D</td>\n",
       "      <td>away_prob</td>\n",
       "      <td>41.862144</td>\n",
       "    </tr>\n",
       "    <tr>\n",
       "      <th>3</th>\n",
       "      <td>Everton</td>\n",
       "      <td>Norwich</td>\n",
       "      <td>H</td>\n",
       "      <td>away_prob</td>\n",
       "      <td>34.801710</td>\n",
       "    </tr>\n",
       "    <tr>\n",
       "      <th>4</th>\n",
       "      <td>Newcastle</td>\n",
       "      <td>Spurs</td>\n",
       "      <td>H</td>\n",
       "      <td>away_prob</td>\n",
       "      <td>46.912272</td>\n",
       "    </tr>\n",
       "  </tbody>\n",
       "</table>\n",
       "</div>"
      ],
      "text/plain": [
       "   home_team    away_team actual_result   variable      value\n",
       "0    Man Utd  Bournemouth             H  away_prob  29.672241\n",
       "1    Arsenal  Aston Villa             H  away_prob  19.957426\n",
       "2    Chelsea    Leicester             D  away_prob  41.862144\n",
       "3    Everton      Norwich             H  away_prob  34.801710\n",
       "4  Newcastle        Spurs             H  away_prob  46.912272"
      ]
     },
     "execution_count": 69,
     "metadata": {},
     "output_type": "execute_result"
    }
   ],
   "source": [
    "assesment_df.head()"
   ]
  },
  {
   "cell_type": "code",
   "execution_count": 70,
   "metadata": {
    "collapsed": false
   },
   "outputs": [],
   "source": [
    "a = assesment_df.groupby('variable').get_group('away_prob')"
   ]
  },
  {
   "cell_type": "code",
   "execution_count": 87,
   "metadata": {
    "collapsed": false
   },
   "outputs": [],
   "source": [
    "b = a.groupby(pd.cut(a.value, 20)).get_group('(47.457, 49.445]')['actual_result']"
   ]
  },
  {
   "cell_type": "code",
   "execution_count": 85,
   "metadata": {
    "collapsed": true
   },
   "outputs": [],
   "source": [
    "pd.cut?"
   ]
  },
  {
   "cell_type": "code",
   "execution_count": 91,
   "metadata": {
    "collapsed": false
   },
   "outputs": [
    {
     "data": {
      "text/plain": [
       "L    6\n",
       "D    4\n",
       "H    1\n",
       "Name: actual_result, dtype: int64"
      ]
     },
     "execution_count": 91,
     "metadata": {},
     "output_type": "execute_result"
    }
   ],
   "source": [
    "b.value_counts()"
   ]
  },
  {
   "cell_type": "code",
   "execution_count": 112,
   "metadata": {
    "collapsed": true
   },
   "outputs": [],
   "source": [
    "def calculate_percentage_of_results_in_subset(group, result):\n",
    "    '''\n",
    "    Calculate the total rows in the group.\n",
    "    Then calculate how many of them are of the specified results type.\n",
    "    Then calculate what % that is.\n",
    "    '''\n",
    "    total_fixtures_in_group = len(group.values)\n",
    "    fixtures_at_given_result = b.value_counts().loc[result]\n",
    "    print('Total: {0}'.format(total_fixtures_in_group))\n",
    "    print ('Subset: {0}'.format(fixtures_at_given_result))\n",
    "    percentage_correct = (fixtures_at_given_result / total_fixtures_in_group) * 100\n",
    "    return percentage_correct    \n",
    "    "
   ]
  },
  {
   "cell_type": "code",
   "execution_count": 113,
   "metadata": {
    "collapsed": false
   },
   "outputs": [
    {
     "name": "stdout",
     "output_type": "stream",
     "text": [
      "Total: 11\n",
      "Subset: 6\n"
     ]
    },
    {
     "data": {
      "text/plain": [
       "54.54545454545454"
      ]
     },
     "execution_count": 113,
     "metadata": {},
     "output_type": "execute_result"
    }
   ],
   "source": [
    "calculate_percentage_of_results_in_subset(b, 'L')"
   ]
  },
  {
   "cell_type": "code",
   "execution_count": 106,
   "metadata": {
    "collapsed": false
   },
   "outputs": [
    {
     "data": {
      "text/plain": [
       "CategoricalIndex([u'L', u'D', u'H'], categories=[u'D', u'H', u'L'], ordered=False, dtype='category')"
      ]
     },
     "execution_count": 106,
     "metadata": {},
     "output_type": "execute_result"
    }
   ],
   "source": [
    "b.value_counts().index"
   ]
  },
  {
   "cell_type": "code",
   "execution_count": 115,
   "metadata": {
    "collapsed": false
   },
   "outputs": [
    {
     "data": {
      "text/html": [
       "<div>\n",
       "<table border=\"1\" class=\"dataframe\">\n",
       "  <thead>\n",
       "    <tr style=\"text-align: right;\">\n",
       "      <th></th>\n",
       "      <th>home_team</th>\n",
       "      <th>away_team</th>\n",
       "      <th>actual_result</th>\n",
       "      <th>variable</th>\n",
       "      <th>value</th>\n",
       "    </tr>\n",
       "  </thead>\n",
       "  <tbody>\n",
       "    <tr>\n",
       "      <th>1</th>\n",
       "      <td>Arsenal</td>\n",
       "      <td>Aston Villa</td>\n",
       "      <td>H</td>\n",
       "      <td>away_prob</td>\n",
       "      <td>19.957426</td>\n",
       "    </tr>\n",
       "    <tr>\n",
       "      <th>97</th>\n",
       "      <td>Man City</td>\n",
       "      <td>Aston Villa</td>\n",
       "      <td>H</td>\n",
       "      <td>away_prob</td>\n",
       "      <td>19.622567</td>\n",
       "    </tr>\n",
       "    <tr>\n",
       "      <th>270</th>\n",
       "      <td>Spurs</td>\n",
       "      <td>Aston Villa</td>\n",
       "      <td>H</td>\n",
       "      <td>away_prob</td>\n",
       "      <td>19.756300</td>\n",
       "    </tr>\n",
       "    <tr>\n",
       "      <th>293</th>\n",
       "      <td>Chelsea</td>\n",
       "      <td>Aston Villa</td>\n",
       "      <td>H</td>\n",
       "      <td>away_prob</td>\n",
       "      <td>20.351179</td>\n",
       "    </tr>\n",
       "    <tr>\n",
       "      <th>331</th>\n",
       "      <td>Leicester</td>\n",
       "      <td>Aston Villa</td>\n",
       "      <td>H</td>\n",
       "      <td>away_prob</td>\n",
       "      <td>20.096534</td>\n",
       "    </tr>\n",
       "  </tbody>\n",
       "</table>\n",
       "</div>"
      ],
      "text/plain": [
       "     home_team    away_team actual_result   variable      value\n",
       "1      Arsenal  Aston Villa             H  away_prob  19.957426\n",
       "97    Man City  Aston Villa             H  away_prob  19.622567\n",
       "270      Spurs  Aston Villa             H  away_prob  19.756300\n",
       "293    Chelsea  Aston Villa             H  away_prob  20.351179\n",
       "331  Leicester  Aston Villa             H  away_prob  20.096534"
      ]
     },
     "execution_count": 115,
     "metadata": {},
     "output_type": "execute_result"
    }
   ],
   "source": [
    "a.groupby(pd.cut(a.value, 20)).get_group('(19.583, 21.611]')"
   ]
  },
  {
   "cell_type": "code",
   "execution_count": 122,
   "metadata": {
    "collapsed": false
   },
   "outputs": [
    {
     "data": {
      "text/plain": [
       "'atts'"
      ]
     },
     "execution_count": 122,
     "metadata": {},
     "output_type": "execute_result"
    }
   ],
   "source": [
    "param_df.columns[0][0:4]"
   ]
  },
  {
   "cell_type": "code",
   "execution_count": 130,
   "metadata": {
    "collapsed": false
   },
   "outputs": [
    {
     "data": {
      "text/plain": [
       "atts_Man Utd          -0.033821\n",
       "atts_Arsenal           0.198217\n",
       "atts_Chelsea           0.125250\n",
       "atts_Everton           0.130286\n",
       "atts_Newcastle        -0.091007\n",
       "atts_Southampton       0.120953\n",
       "atts_Stoke            -0.147414\n",
       "atts_Swansea          -0.130491\n",
       "atts_Watford          -0.168707\n",
       "atts_West Brom        -0.277905\n",
       "atts_Liverpool         0.179659\n",
       "atts_Norwich          -0.172197\n",
       "atts_Sunderland       -0.030125\n",
       "atts_West Ham          0.204967\n",
       "atts_Man City          0.274716\n",
       "atts_Spurs             0.250630\n",
       "atts_Leicester         0.234704\n",
       "atts_Aston Villa      -0.401778\n",
       "atts_Bournemouth      -0.076167\n",
       "atts_Crystal Palace   -0.189770\n",
       "defs_Man Utd          -0.239745\n",
       "defs_Arsenal          -0.215340\n",
       "defs_Chelsea           0.035292\n",
       "defs_Everton           0.067278\n",
       "defs_Newcastle         0.182656\n",
       "defs_Southampton      -0.136511\n",
       "defs_Stoke             0.053216\n",
       "defs_Swansea           0.014463\n",
       "defs_Watford          -0.016360\n",
       "defs_West Brom        -0.045421\n",
       "defs_Liverpool        -0.001476\n",
       "defs_Norwich           0.202537\n",
       "defs_Sunderland        0.151530\n",
       "defs_West Ham          0.014451\n",
       "defs_Man City         -0.131252\n",
       "defs_Spurs            -0.229571\n",
       "defs_Leicester        -0.219351\n",
       "defs_Aston Villa       0.304514\n",
       "defs_Bournemouth       0.209926\n",
       "defs_Crystal Palace   -0.000836\n",
       "home                   0.211605\n",
       "intercept              0.142459\n",
       "Name: mean, dtype: float64"
      ]
     },
     "execution_count": 130,
     "metadata": {},
     "output_type": "execute_result"
    }
   ],
   "source": [
    "param_df.describe().iloc[1]"
   ]
  },
  {
   "cell_type": "code",
   "execution_count": 124,
   "metadata": {
    "collapsed": false
   },
   "outputs": [
    {
     "data": {
      "image/png": "[encoded data removed]",
      "text/plain": [
       "<matplotlib.figure.Figure at 0x7f827f846290>"
      ]
     },
     "metadata": {},
     "output_type": "display_data"
    }
   ],
   "source": [
    "fig = plt.figure(figsize=(16, 12))\n",
    "ax = fig.add_subplot(111)\n",
    "for col_name in param_df.columns:\n",
    "    if col_name[0:4] == 'atts':\n",
    "        sns.distplot(param_df[col_name], hist=False, ax=ax)"
   ]
  },
  {
   "cell_type": "code",
   "execution_count": 114,
   "metadata": {
    "collapsed": false,
    "scrolled": true
   },
   "outputs": [
    {
     "name": "stdout",
     "output_type": "stream",
     "text": [
      "(19.583, 21.611]\n",
      "Total: 5\n",
      "Subset: 6\n",
      "120.0\n",
      "(21.611, 23.599]\n",
      "Total: 1\n",
      "Subset: 6\n",
      "600.0\n",
      "(23.599, 25.587]\n",
      "Total: 10\n",
      "Subset: 6\n",
      "60.0\n",
      "(25.587, 27.575]\n",
      "Total: 6\n",
      "Subset: 6\n",
      "100.0\n",
      "(27.575, 29.563]\n",
      "Total: 21\n",
      "Subset: 6\n",
      "28.5714285714\n",
      "(29.563, 31.552]\n",
      "Total: 36\n",
      "Subset: 6\n",
      "16.6666666667\n",
      "(31.552, 33.54]\n",
      "Total: 29\n",
      "Subset: 6\n",
      "20.6896551724\n",
      "(33.54, 35.528]\n",
      "Total: 40\n",
      "Subset: 6\n",
      "15.0\n",
      "(35.528, 37.516]\n",
      "Total: 43\n",
      "Subset: 6\n",
      "13.9534883721\n",
      "(37.516, 39.504]\n",
      "Total: 41\n",
      "Subset: 6\n",
      "14.6341463415\n",
      "(39.504, 41.493]\n",
      "Total: 41\n",
      "Subset: 6\n",
      "14.6341463415\n",
      "(41.493, 43.481]\n",
      "Total: 26\n",
      "Subset: 6\n",
      "23.0769230769\n",
      "(43.481, 45.469]\n",
      "Total: 27\n",
      "Subset: 6\n",
      "22.2222222222\n",
      "(45.469, 47.457]\n",
      "Total: 24\n",
      "Subset: 6\n",
      "25.0\n",
      "(47.457, 49.445]\n",
      "Total: 11\n",
      "Subset: 6\n",
      "54.5454545455\n",
      "(49.445, 51.433]\n",
      "Total: 4\n",
      "Subset: 6\n",
      "150.0\n",
      "(51.433, 53.422]\n",
      "Total: 8\n",
      "Subset: 6\n",
      "75.0\n",
      "(53.422, 55.41]\n",
      "Total: 2\n",
      "Subset: 6\n",
      "300.0\n",
      "(55.41, 57.398]\n",
      "Total: 0\n",
      "Subset: 6\n",
      "inf\n",
      "(57.398, 59.386]\n",
      "Total: 5\n",
      "Subset: 6\n",
      "120.0\n"
     ]
    }
   ],
   "source": [
    "for name, group in a.groupby(pd.cut(a.value, 20)):\n",
    "    print name\n",
    "    print calculate_percentage_of_results_in_subset(group, 'L')\n"
   ]
  },
  {
   "cell_type": "code",
   "execution_count": 76,
   "metadata": {
    "collapsed": false
   },
   "outputs": [
    {
     "data": {
      "text/plain": [
       "0.3508771929824561"
      ]
     },
     "execution_count": 76,
     "metadata": {},
     "output_type": "execute_result"
    }
   ],
   "source": [
    "20 / 57"
   ]
  },
  {
   "cell_type": "code",
   "execution_count": 75,
   "metadata": {
    "collapsed": false
   },
   "outputs": [
    {
     "data": {
      "text/plain": [
       "count     57\n",
       "unique     3\n",
       "top        H\n",
       "freq      37\n",
       "Name: actual_result, dtype: object"
      ]
     },
     "execution_count": 75,
     "metadata": {},
     "output_type": "execute_result"
    }
   ],
   "source": [
    "b.describe()"
   ]
  },
  {
   "cell_type": "code",
   "execution_count": null,
   "metadata": {
    "collapsed": true
   },
   "outputs": [],
   "source": [
    "a.groupby"
   ]
  },
  {
   "cell_type": "code",
   "execution_count": 8,
   "metadata": {
    "collapsed": false
   },
   "outputs": [
    {
     "name": "stdout",
     "output_type": "stream",
     "text": [
      "<class 'pandas.core.frame.DataFrame'>\n",
      "RangeIndex: 380 entries, 0 to 379\n",
      "Data columns (total 8 columns):\n",
      "date          380 non-null object\n",
      "time          380 non-null object\n",
      "home_team     380 non-null object\n",
      "score         380 non-null object\n",
      "away_team     380 non-null object\n",
      "location      380 non-null object\n",
      "home_score    380 non-null int64\n",
      "away_score    380 non-null int64\n",
      "dtypes: int64(2), object(6)\n",
      "memory usage: 23.8+ KB\n",
      "None\n"
     ]
    },
    {
     "data": {
      "text/html": [
       "<div>\n",
       "<table border=\"1\" class=\"dataframe\">\n",
       "  <thead>\n",
       "    <tr style=\"text-align: right;\">\n",
       "      <th></th>\n",
       "      <th>date</th>\n",
       "      <th>time</th>\n",
       "      <th>home_team</th>\n",
       "      <th>score</th>\n",
       "      <th>away_team</th>\n",
       "      <th>location</th>\n",
       "      <th>home_score</th>\n",
       "      <th>away_score</th>\n",
       "    </tr>\n",
       "  </thead>\n",
       "  <tbody>\n",
       "    <tr>\n",
       "      <th>0</th>\n",
       "      <td>17/5/2016</td>\n",
       "      <td>20:00</td>\n",
       "      <td>Man Utd</td>\n",
       "      <td>3 - 1</td>\n",
       "      <td>Bournemouth</td>\n",
       "      <td>Old Trafford</td>\n",
       "      <td>3</td>\n",
       "      <td>1</td>\n",
       "    </tr>\n",
       "    <tr>\n",
       "      <th>1</th>\n",
       "      <td>15/5/2016</td>\n",
       "      <td>15:00</td>\n",
       "      <td>Arsenal</td>\n",
       "      <td>4 - 0</td>\n",
       "      <td>Aston Villa</td>\n",
       "      <td>Emirates Stadium</td>\n",
       "      <td>4</td>\n",
       "      <td>0</td>\n",
       "    </tr>\n",
       "    <tr>\n",
       "      <th>2</th>\n",
       "      <td>16/5/2016</td>\n",
       "      <td>15:00</td>\n",
       "      <td>Chelsea</td>\n",
       "      <td>1 - 1</td>\n",
       "      <td>Leicester</td>\n",
       "      <td>Stamford Bridge</td>\n",
       "      <td>1</td>\n",
       "      <td>1</td>\n",
       "    </tr>\n",
       "    <tr>\n",
       "      <th>3</th>\n",
       "      <td>17/5/2016</td>\n",
       "      <td>15:00</td>\n",
       "      <td>Everton</td>\n",
       "      <td>3 - 0</td>\n",
       "      <td>Norwich</td>\n",
       "      <td>Goodison Park</td>\n",
       "      <td>3</td>\n",
       "      <td>0</td>\n",
       "    </tr>\n",
       "    <tr>\n",
       "      <th>4</th>\n",
       "      <td>18/5/2016</td>\n",
       "      <td>15:00</td>\n",
       "      <td>Newcastle</td>\n",
       "      <td>5 - 1</td>\n",
       "      <td>Spurs</td>\n",
       "      <td>St. James' Park</td>\n",
       "      <td>5</td>\n",
       "      <td>1</td>\n",
       "    </tr>\n",
       "  </tbody>\n",
       "</table>\n",
       "</div>"
      ],
      "text/plain": [
       "        date   time  home_team  score    away_team          location  \\\n",
       "0  17/5/2016  20:00    Man Utd  3 - 1  Bournemouth      Old Trafford   \n",
       "1  15/5/2016  15:00    Arsenal  4 - 0  Aston Villa  Emirates Stadium   \n",
       "2  16/5/2016  15:00    Chelsea  1 - 1    Leicester   Stamford Bridge   \n",
       "3  17/5/2016  15:00    Everton  3 - 0      Norwich     Goodison Park   \n",
       "4  18/5/2016  15:00  Newcastle  5 - 1        Spurs   St. James' Park   \n",
       "\n",
       "   home_score  away_score  \n",
       "0           3           1  \n",
       "1           4           0  \n",
       "2           1           1  \n",
       "3           3           0  \n",
       "4           5           1  "
      ]
     },
     "execution_count": 8,
     "metadata": {},
     "output_type": "execute_result"
    }
   ],
   "source": [
    "results_df = pd.read_csv('../data/15_16_results.csv', '\\t')\n",
    "\n",
    "print results_df.info()\n",
    "\n",
    "results_df.head()"
   ]
  },
  {
   "cell_type": "code",
   "execution_count": 13,
   "metadata": {
    "collapsed": false
   },
   "outputs": [],
   "source": [
    "data = {\n",
    "    'home_team': ['Man City', 'Arsenal', 'Man Utd'],\n",
    "    'away_team': ['Watford', 'Aston Villa', 'Newcastle']}\n",
    "fixture_df = pd.DataFrame(data)"
   ]
  },
  {
   "cell_type": "code",
   "execution_count": 15,
   "metadata": {
    "collapsed": false
   },
   "outputs": [],
   "source": [
    "home_team = 'Man City'\n",
    "away_team = 'Aston Villa'\n",
    "row_num = 1000\n",
    "rho = param_df['intercept'].iloc[row_num]\n",
    "mu = calculate_mu(home_team, away_team, param_df, row_num)\n",
    "lambda_val = calculate_lambda_val(home_team, away_team, param_df, row_num)\n",
    "result_matrix = create_likelihood_matrix(mu, lambda_val)\n",
    "scaling_matrix = create_scaling_matrix(mu, lambda_val, rho)"
   ]
  },
  {
   "cell_type": "code",
   "execution_count": 16,
   "metadata": {
    "collapsed": false
   },
   "outputs": [],
   "source": [
    "a = get_fixture_result(result_matrix, scaling_matrix)"
   ]
  },
  {
   "cell_type": "code",
   "execution_count": 218,
   "metadata": {
    "collapsed": false
   },
   "outputs": [
    {
     "data": {
      "text/plain": [
       "0.48320000000000013"
      ]
     },
     "execution_count": 218,
     "metadata": {},
     "output_type": "execute_result"
    }
   ],
   "source": [
    "overall_distribution = []\n",
    "for iteration in xrange(0, 1000):\n",
    "    summation = []\n",
    "    for i in [x for x in np.random.rand(10)]:\n",
    "        if i <= 0.4:\n",
    "            summation.append(1.60)\n",
    "        else:\n",
    "            summation.append(-1)\n",
    "    overall_distribution.append(np.sum(summation))\n",
    "np.mean(overall_distribution)"
   ]
  },
  {
   "cell_type": "code",
   "execution_count": 142,
   "metadata": {
    "collapsed": false
   },
   "outputs": [
    {
     "data": {
      "text/plain": [
       "1.4635"
      ]
     },
     "execution_count": 142,
     "metadata": {},
     "output_type": "execute_result"
    }
   ],
   "source": []
  }
 ],
 "metadata": {
  "kernelspec": {
   "display_name": "Python 2",
   "language": "python",
   "name": "python2"
  },
  "language_info": {
   "codemirror_mode": {
    "name": "ipython",
    "version": 2
   },
   "file_extension": ".py",
   "mimetype": "text/x-python",
   "name": "python",
   "nbconvert_exporter": "python",
   "pygments_lexer": "ipython2",
   "version": "2.7.12"
  }
 },
 "nbformat": 4,
 "nbformat_minor": 0
}
